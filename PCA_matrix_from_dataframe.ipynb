{
 "cells": [
  {
   "cell_type": "code",
   "execution_count": 1,
   "metadata": {},
   "outputs": [],
   "source": [
    "input_directory = 'C:/Users/jgbel/Desktop/data/Loan Defaulting/application_train_onehot_imputed.csv'\n",
    "target_variable = 'TARGET'\n",
    "target_variable_new_name = \"y\" # default value; you can leave it as 'y' if you'd like\n",
    "output_file_name_and_directory = 'C:/Users/jgbel/Desktop/data/Loan Defaulting/principal_component_matrix.pkl'"
   ]
  },
  {
   "cell_type": "code",
   "execution_count": 2,
   "metadata": {},
   "outputs": [],
   "source": [
    "import pandas as p\n",
    "from sklearn.preprocessing import scale\n",
    "from sklearn.decomposition import PCA\n"
   ]
  },
  {
   "cell_type": "code",
   "execution_count": 3,
   "metadata": {},
   "outputs": [],
   "source": [
    "data = p.read_csv(input_directory)\n"
   ]
  },
  {
   "cell_type": "code",
   "execution_count": 4,
   "metadata": {},
   "outputs": [],
   "source": [
    "# remove the response variable\n",
    "y = data[target_variable]\n",
    "data = data.drop(target_variable, axis = 1)\n"
   ]
  },
  {
   "cell_type": "code",
   "execution_count": 5,
   "metadata": {
    "scrolled": true
   },
   "outputs": [
    {
     "name": "stderr",
     "output_type": "stream",
     "text": [
      "C:\\Users\\jgbel\\Anaconda3\\lib\\site-packages\\ipykernel_launcher.py:2: DataConversionWarning: Data with input dtype int64, float64 were all converted to float64 by the scale function.\n",
      "  \n"
     ]
    }
   ],
   "source": [
    "data_standardized = p.DataFrame(\n",
    "    scale(data),\n",
    "    columns = data.columns\n",
    ")\n"
   ]
  },
  {
   "cell_type": "code",
   "execution_count": null,
   "metadata": {},
   "outputs": [],
   "source": [
    "# You may adjust the number of components in PCA() as n_components.\n",
    "# Each row is a corpus.\n",
    "# Each column is a principal component.\n",
    "principal_component_matrix = p.DataFrame(\n",
    "    PCA().fit_transform(\n",
    "        data_standardized\n",
    "    )\n",
    ")\n"
   ]
  },
  {
   "cell_type": "code",
   "execution_count": null,
   "metadata": {},
   "outputs": [],
   "source": [
    "principal_component_matrix[target_variable_new_name] = y\n"
   ]
  },
  {
   "cell_type": "code",
   "execution_count": null,
   "metadata": {},
   "outputs": [],
   "source": [
    "principal_component_matrix.to_pickle(output_file_name_and_directory)\n",
    "# p.read_pickle(output_file_name_and_directory)\n"
   ]
  }
 ],
 "metadata": {
  "kernelspec": {
   "display_name": "Python 3",
   "language": "python",
   "name": "python3"
  },
  "language_info": {
   "codemirror_mode": {
    "name": "ipython",
    "version": 3
   },
   "file_extension": ".py",
   "mimetype": "text/x-python",
   "name": "python",
   "nbconvert_exporter": "python",
   "pygments_lexer": "ipython3",
   "version": "3.7.1"
  }
 },
 "nbformat": 4,
 "nbformat_minor": 2
}
